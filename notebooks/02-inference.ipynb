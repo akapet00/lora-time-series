{
 "cells": [
  {
   "cell_type": "markdown",
   "metadata": {},
   "source": [
    "# Probability of success transmission of LoRa messages"
   ]
  },
  {
   "cell_type": "markdown",
   "metadata": {},
   "source": [
    "For given period of time (*n* seconds) return probability of successful transimission of LoRa uplink message. \n",
    "\n",
    "Probability should rise up as time period gets bigger (*n*  is bigger). \n",
    "$$ n = 0 \\Rightarrow p_{st} = 0 $$ \n",
    "\n",
    "$$ n \\in <0, +\\infty> \\Rightarrow p_{st} \\in <0, 1> $$\n",
    "\n",
    "$$ n = \\infty \\Rightarrow p_{st} = 1 $$"
   ]
  },
  {
   "cell_type": "markdown",
   "metadata": {},
   "source": [
    "Estimation of successfully transmitted messages will be inferenced from LSTM output but function evaluation will be performed on measured data from real deployment. Data is structured as time series sequence of 1s and 0s which represents device activity. Resolution of time is on scale of seconds. Since the data is measured for the long period of time (more than few months), only partial data will be considered."
   ]
  },
  {
   "cell_type": "code",
   "execution_count": 1,
   "metadata": {},
   "outputs": [],
   "source": [
    "import pandas as pd\n",
    "import os\n",
    "\n",
    "PROJ_ROOT = os.path.abspath(os.path.join(os.pardir))\n",
    "PROCESSED_PATH = 'data/processed'\n",
    "\n",
    "df = pd.read_csv(os.path.join(PROJ_ROOT, PROCESSED_PATH, 'single_device_activation.csv'),\n",
    "                header=0, sep=',')"
   ]
  },
  {
   "cell_type": "markdown",
   "metadata": {},
   "source": [
    "Function will take 3 parameters:\n",
    "- data - original dataset structured as described above\n",
    "- sample - if the partial data taken as argument above is considered as population this will be finite sample of the population\n",
    "- window - number that represents number of elements of sliding window which will go through all of the sampled datam"
   ]
  },
  {
   "cell_type": "code",
   "execution_count": 2,
   "metadata": {},
   "outputs": [
    {
     "data": {
      "text/plain": [
       "0.0    1981627\n",
       "1.0      18373\n",
       "Name: Active, dtype: int64"
      ]
     },
     "execution_count": 2,
     "metadata": {},
     "output_type": "execute_result"
    }
   ],
   "source": [
    "df[:2000000].Active.value_counts()"
   ]
  },
  {
   "cell_type": "code",
   "execution_count": 9,
   "metadata": {},
   "outputs": [],
   "source": [
    "data_test = df[:5000000].copy()"
   ]
  },
  {
   "cell_type": "code",
   "execution_count": 5,
   "metadata": {},
   "outputs": [],
   "source": [
    "import matplotlib.pyplot as plt\n",
    "from itertools import islice\n",
    "import numpy as np\n",
    "\n",
    "def sampling(data, sample_size):\n",
    "    \"\"\"Returns sampled data sets\"\"\"\n",
    "    return [data[x:x+sample_size] for x in range(0, len(data), sample_size)] \n",
    "\n",
    "def gen_window(seq, n):\n",
    "    \"\"\"Returns a sliding window (of width n) over data from the iterable\"\"\"\n",
    "    it = iter(seq)\n",
    "    result = tuple(islice(it, n))\n",
    "    if len(result) == n:\n",
    "        yield result\n",
    "    for elem in it:\n",
    "        result = result[1:] + (elem,)\n",
    "        yield result\n",
    "\n",
    "def estimate_prob(data, window_size):\n",
    "    \"\"\"Returns a probability estimate for given data sample in \n",
    "       n=window_size number of seconds\"\"\"\n",
    "    windows = gen_window(data, n=window_size)\n",
    "\n",
    "    window_prob = []\n",
    "\n",
    "    for window in windows:\n",
    "        ones_freq = 0\n",
    "        for data_point in window:\n",
    "            if data_point == 1:\n",
    "                ones_freq += 1\n",
    "        window_prob.append(ones_freq/window_size)\n",
    "    return 1 - window_prob.count(0.0)/len(window_prob)\n",
    "\n",
    "def plot_data(data, time=range(24)):\n",
    "    fig = plt.figure(facecolor='white', figsize=(12,3))\n",
    "    plt.plot(time, data, 'b-.o')\n",
    "    plt.show()\n",
    "\n",
    "def plot_prob(probs, time_points):\n",
    "    fig = plt.figure(facecolor='white', figsize=(12,3))\n",
    "    \n",
    "    plt.ylabel('est_prob')\n",
    "    plt.xlabel('time [s]')\n",
    "    plt.title('Estimated probability of successful transmission of messages')\n",
    "    \n",
    "    plt.xscale('log')\n",
    "    \n",
    "    plt.plot(time_points, probs)\n",
    "    \n",
    "    for a,b in zip(time_points, probs): \n",
    "        plt.text(a, round(b, 4), str(round(b, 4)))\n",
    "    plt.show()"
   ]
  },
  {
   "cell_type": "code",
   "execution_count": 10,
   "metadata": {},
   "outputs": [],
   "source": [
    "samples = sampling(data_test, sample_size=50000)"
   ]
  },
  {
   "cell_type": "code",
   "execution_count": 11,
   "metadata": {
    "scrolled": false
   },
   "outputs": [],
   "source": [
    "probs_acc = {}\n",
    "max_w_size = [1, 10, 30, 60, 600, 1800, 3600, 9000, 50000]\n",
    "for idx, sample in enumerate(samples):\n",
    "    probs = []\n",
    "    for w in max_w_size:\n",
    "        probs.append(estimate_prob(sample.Active, window_size=w))\n",
    "    probs_acc[idx]=probs"
   ]
  },
  {
   "cell_type": "code",
   "execution_count": 12,
   "metadata": {},
   "outputs": [
    {
     "data": {
      "text/plain": [
       "[0.012611599999999994,\n",
       " 0.12146406353143561,\n",
       " 0.33341758219767476,\n",
       " 0.5663937446186499,\n",
       " 0.8361069613975425,\n",
       " 0.840757453164872,\n",
       " 0.8444983944311545,\n",
       " 0.85197629326114,\n",
       " 0.9]"
      ]
     },
     "execution_count": 12,
     "metadata": {},
     "output_type": "execute_result"
    }
   ],
   "source": [
    "p_tot = []\n",
    "for i in range(len(max_w_size)):\n",
    "    _s = 0\n",
    "    for j in range(len(probs_acc)):\n",
    "        _s += probs_acc[j][i]\n",
    "    p_tot.append(_s/len(probs_acc))\n",
    "p_tot"
   ]
  },
  {
   "cell_type": "code",
   "execution_count": 13,
   "metadata": {
    "scrolled": true
   },
   "outputs": [
    {
     "data": {
      "image/png": "[encoded data removed]",
      "text/plain": [
       "<Figure size 864x216 with 1 Axes>"
      ]
     },
     "metadata": {},
     "output_type": "display_data"
    }
   ],
   "source": [
    "plot_prob(p_tot, max_w_size)"
   ]
  },
  {
   "cell_type": "markdown",
   "metadata": {},
   "source": [
    "# Evaluation on LSTM predictions\n",
    "\n",
    "Applying the same procedure to the predicted future values of LSTM network output, we should get *estimation* of probability of successful transmission of LoRa messages from end device to base station.\n",
    "\n",
    "First lets generate and interpret LSTM output appropriately:"
   ]
  },
  {
   "cell_type": "code",
   "execution_count": 14,
   "metadata": {},
   "outputs": [
    {
     "name": "stderr",
     "output_type": "stream",
     "text": [
      "Using TensorFlow backend.\n"
     ]
    },
    {
     "name": "stdout",
     "output_type": "stream",
     "text": [
      "WARNING:tensorflow:From /home/alk/anaconda3/envs/lora-time-series/lib/python3.7/site-packages/tensorflow/python/framework/op_def_library.py:263: colocate_with (from tensorflow.python.framework.ops) is deprecated and will be removed in a future version.\n",
      "Instructions for updating:\n",
      "Colocations handled automatically by placer.\n",
      "WARNING:tensorflow:From /home/alk/anaconda3/envs/lora-time-series/lib/python3.7/site-packages/keras/backend/tensorflow_backend.py:3445: calling dropout (from tensorflow.python.ops.nn_ops) with keep_prob is deprecated and will be removed in a future version.\n",
      "Instructions for updating:\n",
      "Please use `rate` instead of `keep_prob`. Rate should be set to `rate = 1 - keep_prob`.\n",
      "WARNING:tensorflow:From /home/alk/anaconda3/envs/lora-time-series/lib/python3.7/site-packages/tensorflow/python/ops/math_ops.py:3066: to_int32 (from tensorflow.python.ops.math_ops) is deprecated and will be removed in a future version.\n",
      "Instructions for updating:\n",
      "Use tf.cast instead.\n"
     ]
    }
   ],
   "source": [
    "from keras.models import load_model\n",
    "model = load_model('../saved_models/01052019-092342-e1.h5')"
   ]
  },
  {
   "cell_type": "code",
   "execution_count": 15,
   "metadata": {},
   "outputs": [],
   "source": [
    "import pandas as pd\n",
    "import numpy as np\n",
    "import os\n",
    "\n",
    "def timeDelay(df, delay):\n",
    "    X_data, y_data = [], []\n",
    "    \n",
    "    for i in range(delay, len(df)):\n",
    "        X_data.append(df[i-delay: i].tolist())\n",
    "    X_data = np.array(X_data)\n",
    "    y_data = df[delay:]\n",
    "    return np.reshape(X_data, (X_data.shape[0], X_data.shape[1], 1)),\\\n",
    "           np.reshape(y_data, (len(y_data), ))\n",
    "\n",
    "def split(X, y, ratio):    \n",
    "    test_split = int(len(X) * ratio)\n",
    "    \n",
    "    X_train, y_train = X[:test_split], y[:test_split]\n",
    "    X_test, y_test = X[test_split:], y[test_split:]\n",
    "    return X_train, y_train, X_test, y_test\n",
    "\n",
    "# train-test split on processed dataset\n",
    "PROJ_ROOT = os.path.abspath(os.path.join(os.pardir))\n",
    "PROCESSED_PATH = 'data/processed'\n",
    "\n",
    "df = pd.read_csv(os.path.join(PROJ_ROOT, PROCESSED_PATH, 'single_device_activation.csv'),\n",
    "                header=0, sep=',')\n",
    "\n",
    "X, y = timeDelay(df.Active.values, delay=5)\n",
    "X_train, y_train, X_test, y_test = split(X, y, ratio=0.8)"
   ]
  },
  {
   "cell_type": "code",
   "execution_count": 16,
   "metadata": {},
   "outputs": [],
   "source": [
    "y_train_pred = model.predict(X_train)\n",
    "y_test_pred = model.predict(X_test)"
   ]
  },
  {
   "cell_type": "code",
   "execution_count": 17,
   "metadata": {},
   "outputs": [
    {
     "data": {
      "text/plain": [
       "array([[0.000000e+00, 5.824563e+06],\n",
       "       [1.000000e+00, 2.100000e+01]])"
      ]
     },
     "execution_count": 17,
     "metadata": {},
     "output_type": "execute_result"
    }
   ],
   "source": [
    "unique, counts = np.unique(y_test, return_counts=True)\n",
    "\n",
    "np.asarray((unique, counts)).T"
   ]
  },
  {
   "cell_type": "code",
   "execution_count": 18,
   "metadata": {},
   "outputs": [
    {
     "data": {
      "text/plain": [
       "array([2.8398631e-06, 2.8398631e-06, 2.8398631e-06, ..., 2.8398631e-06,\n",
       "       2.8398633e-06, 2.8398633e-06], dtype=float32)"
      ]
     },
     "execution_count": 18,
     "metadata": {},
     "output_type": "execute_result"
    }
   ],
   "source": [
    "y_test_pred = np.reshape(y_test_pred, (y_test_pred.size,))\n",
    "y_test_pred"
   ]
  },
  {
   "cell_type": "code",
   "execution_count": 19,
   "metadata": {},
   "outputs": [
    {
     "data": {
      "text/plain": [
       "array([[2.83986310e-06, 5.46045200e+06],\n",
       "       [2.83986333e-06, 3.64032000e+05],\n",
       "       [5.11100006e-06, 2.00000000e+01],\n",
       "       [5.55253200e-06, 3.00000000e+00],\n",
       "       [5.55253246e-06, 1.70000000e+01],\n",
       "       [6.64733943e-06, 1.70000000e+01],\n",
       "       [6.64734080e-06, 3.00000000e+00],\n",
       "       [8.57259147e-06, 2.00000000e+01],\n",
       "       [9.02727152e-06, 2.00000000e+01]])"
      ]
     },
     "execution_count": 19,
     "metadata": {},
     "output_type": "execute_result"
    }
   ],
   "source": [
    "unique, counts = np.unique(y_test_pred, return_counts=True)\n",
    "\n",
    "np.asarray((unique, counts)).T"
   ]
  },
  {
   "cell_type": "code",
   "execution_count": 20,
   "metadata": {},
   "outputs": [
    {
     "data": {
      "text/plain": [
       "array([0., 0., 0., ..., 0., 0., 0.], dtype=float32)"
      ]
     },
     "execution_count": 20,
     "metadata": {},
     "output_type": "execute_result"
    }
   ],
   "source": [
    "y_test_pred[y_test_pred==2.83986310e-06]=0\n",
    "y_test_pred[y_test_pred==2.83986333e-06]=0\n",
    "y_test_pred[y_test_pred!=0]=1\n",
    "y_test_pred"
   ]
  },
  {
   "cell_type": "markdown",
   "metadata": {},
   "source": [
    "Now, same thing should be done for *y_test_pred* array as it had been done previously for actual measured data in deployment.\n",
    "*y_test_pred* is filled with 1s and 0s which represents predicted device activity for the future time points (second-precision)."
   ]
  },
  {
   "cell_type": "code",
   "execution_count": 23,
   "metadata": {},
   "outputs": [
    {
     "name": "stdout",
     "output_type": "stream",
     "text": [
      "y_test_pred number of data points: 5824584\n"
     ]
    }
   ],
   "source": [
    "print('y_test_pred number of data points:', len(y_test_pred))"
   ]
  },
  {
   "cell_type": "code",
   "execution_count": 31,
   "metadata": {},
   "outputs": [],
   "source": [
    "predicted_data = pd.DataFrame({'Active':list(y_test_pred)})"
   ]
  },
  {
   "cell_type": "code",
   "execution_count": 38,
   "metadata": {},
   "outputs": [
    {
     "data": {
      "image/png": "[encoded data removed]",
      "text/plain": [
       "<Figure size 864x216 with 1 Axes>"
      ]
     },
     "metadata": {},
     "output_type": "display_data"
    }
   ],
   "source": [
    "samples = sampling(predicted_data[:5000000], sample_size=50000)\n",
    "\n",
    "probs_acc = {}\n",
    "max_w_size = [1, 10, 30, 60, 600, 1800, 3600, 9000, 50000]\n",
    "for idx, sample in enumerate(samples):\n",
    "    probs = []\n",
    "    for w in max_w_size:\n",
    "        probs.append(estimate_prob(sample.Active, window_size=w))\n",
    "    probs_acc[idx]=probs\n",
    "\n",
    "p_tot = []\n",
    "for i in range(len(max_w_size)):\n",
    "    _s = 0\n",
    "    for j in range(len(probs_acc)):\n",
    "        _s += probs_acc[j][i]\n",
    "    p_tot.append(_s/len(probs_acc))\n",
    "    \n",
    "plot_prob(p_tot, max_w_size)"
   ]
  },
  {
   "cell_type": "markdown",
   "metadata": {},
   "source": [
    "# Probability distribution for the same element of the original data"
   ]
  },
  {
   "cell_type": "code",
   "execution_count": 17,
   "metadata": {},
   "outputs": [],
   "source": [
    "data_test = df[-5824584:].copy()"
   ]
  },
  {
   "cell_type": "code",
   "execution_count": 18,
   "metadata": {},
   "outputs": [
    {
     "data": {
      "image/png": "[encoded data removed]",
      "text/plain": [
       "<Figure size 864x216 with 1 Axes>"
      ]
     },
     "metadata": {},
     "output_type": "display_data"
    }
   ],
   "source": [
    "samples = sampling(data_test[:5000000], sample_size=50000)\n",
    "\n",
    "probs_acc = {}\n",
    "max_w_size = [1, 10, 30, 60, 600, 1800, 3600, 9000, 50000]\n",
    "for idx, sample in enumerate(samples):\n",
    "    probs = []\n",
    "    for w in max_w_size:\n",
    "        probs.append(estimate_prob(sample.Active, window_size=w))\n",
    "    probs_acc[idx]=probs\n",
    "\n",
    "p_tot = []\n",
    "for i in range(len(max_w_size)):\n",
    "    _s = 0\n",
    "    for j in range(len(probs_acc)):\n",
    "        _s += probs_acc[j][i]\n",
    "    p_tot.append(_s/len(probs_acc))\n",
    "    \n",
    "plot_prob(p_tot, max_w_size)"
   ]
  },
  {
   "cell_type": "code",
   "execution_count": null,
   "metadata": {},
   "outputs": [],
   "source": []
  }
 ],
 "metadata": {
  "kernelspec": {
   "display_name": "Python 3",
   "language": "python",
   "name": "python3"
  },
  "language_info": {
   "codemirror_mode": {
    "name": "ipython",
    "version": 3
   },
   "file_extension": ".py",
   "mimetype": "text/x-python",
   "name": "python",
   "nbconvert_exporter": "python",
   "pygments_lexer": "ipython3",
   "version": "3.7.1"
  }
 },
 "nbformat": 4,
 "nbformat_minor": 2
}
