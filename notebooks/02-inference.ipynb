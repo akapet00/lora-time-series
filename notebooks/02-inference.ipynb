{
 "cells": [
  {
   "cell_type": "markdown",
   "metadata": {},
   "source": [
    "# Probability of success transmission of LoRa messages"
   ]
  },
  {
   "cell_type": "markdown",
   "metadata": {},
   "source": [
    "For given period of time (*n* seconds) return probability of successful transimission of LoRa uplink message. \n",
    "\n",
    "Probability should rise up as time period gets bigger (*n*  is bigger). \n",
    "$$ n = 0 \\Rightarrow p_{st} = 0 $$ \n",
    "\n",
    "$$ n \\in <0, +\\infty> \\Rightarrow p_{st} \\in <0, 1> $$\n",
    "\n",
    "$$ n = \\infty \\Rightarrow p_{st} = 1 $$"
   ]
  },
  {
   "cell_type": "markdown",
   "metadata": {},
   "source": [
    "Estimation of successfully transmitted messages will be inferenced from LSTM output but function evaluation will be performed on measured data from real deployment. Data is structured as time series sequence of 1s and 0s which represents device activity. Resolution of time is on scale of seconds. Since the data is measured for the long period of time (more than few months), only partial data will be considered."
   ]
  },
  {
   "cell_type": "code",
   "execution_count": 3,
   "metadata": {},
   "outputs": [],
   "source": [
    "import pandas as pd\n",
    "import os\n",
    "\n",
    "PROJ_ROOT = os.path.abspath(os.path.join(os.pardir))\n",
    "PROCESSED_PATH = 'data/processed'\n",
    "\n",
    "df = pd.read_csv(os.path.join(PROJ_ROOT, PROCESSED_PATH, 'single_device_activation.csv'),\n",
    "                header=0, sep=',')"
   ]
  },
  {
   "cell_type": "markdown",
   "metadata": {},
   "source": [
    "Function will take 3 parameters:\n",
    "- data - original dataset structured as described above\n",
    "- sample - if the partial data taken as argument above is considered as population this will be finite sample of the population\n",
    "- window - number that represents number of elements of sliding window which will go through all of the sampled datam"
   ]
  },
  {
   "cell_type": "code",
   "execution_count": 2,
   "metadata": {},
   "outputs": [
    {
     "data": {
      "text/plain": [
       "0.0    1981627\n",
       "1.0      18373\n",
       "Name: Active, dtype: int64"
      ]
     },
     "execution_count": 2,
     "metadata": {},
     "output_type": "execute_result"
    }
   ],
   "source": [
    "df[:2000000].Active.value_counts()"
   ]
  },
  {
   "cell_type": "code",
   "execution_count": 3,
   "metadata": {},
   "outputs": [],
   "source": [
    "data_test = df[:5000000].copy()"
   ]
  },
  {
   "cell_type": "code",
   "execution_count": 1,
   "metadata": {},
   "outputs": [],
   "source": [
    "import matplotlib.pyplot as plt\n",
    "from itertools import islice\n",
    "import numpy as np\n",
    "\n",
    "def gen_window(seq, n):\n",
    "    \"\"\"Returns a sliding window (of width n) over data from the iterable\"\"\"\n",
    "    it = iter(seq)\n",
    "    result = tuple(islice(it, n))\n",
    "    if len(result) == n:\n",
    "        yield result\n",
    "    for elem in it:\n",
    "        result = result[1:] + (elem,)\n",
    "        yield result\n",
    "\n",
    "def estimate_prob(data, window_size):\n",
    "    \"\"\"Returns a probability estimate for given data sample in \n",
    "       n=window_size number of seconds\"\"\"\n",
    "    windows = gen_window(data, n=window_size)\n",
    "\n",
    "    window_prob = []\n",
    "\n",
    "    for window in windows:\n",
    "        ones_freq = 0\n",
    "        for data_point in window:\n",
    "            if data_point == 1:\n",
    "                ones_freq += 1\n",
    "        window_prob.append(ones_freq/window_size)\n",
    "    return 1 - window_prob.count(0.0)/len(window_prob)\n",
    "\n",
    "def plot_data(data, time=range(24)):\n",
    "    fig = plt.figure(facecolor='white', figsize=(12,3))\n",
    "    plt.plot(time, data, 'b-.o')\n",
    "    plt.show()\n",
    "\n",
    "def plot_prob(probs, time_points):\n",
    "    fig = plt.figure(facecolor='white', figsize=(12,3))\n",
    "    \n",
    "    plt.ylabel('est_prob')\n",
    "    plt.xlabel('time [s]')\n",
    "    plt.title('Estimated probability of successful transmission of messages')\n",
    "    \n",
    "    plt.xscale('log')\n",
    "    \n",
    "    plt.plot(time_points, probs)\n",
    "    \n",
    "    for a,b in zip(time_points, probs): \n",
    "        plt.text(a, round(b, 4), str(round(b, 4)))\n",
    "    plt.show()"
   ]
  },
  {
   "cell_type": "code",
   "execution_count": 5,
   "metadata": {
    "scrolled": false
   },
   "outputs": [],
   "source": [
    "max_w_size = [1, 10, 30, 60, 600, 1800, 3600, 9000, 50000]\n",
    "\n",
    "probs = []\n",
    "for w in max_w_size:\n",
    "    probs.append(estimate_prob(data_test.Active, window_size=w))"
   ]
  },
  {
   "cell_type": "code",
   "execution_count": 6,
   "metadata": {},
   "outputs": [
    {
     "data": {
      "text/plain": [
       "[0.012611599999999945,\n",
       " 0.12145981862767352,\n",
       " 0.3334055337520958,\n",
       " 0.566424283806549,\n",
       " 0.8359545473547731,\n",
       " 0.8406930813706772,\n",
       " 0.8448813455925576,\n",
       " 0.8539200853696483,\n",
       " 0.903753958837584]"
      ]
     },
     "execution_count": 6,
     "metadata": {},
     "output_type": "execute_result"
    }
   ],
   "source": [
    "probs"
   ]
  },
  {
   "cell_type": "code",
   "execution_count": 7,
   "metadata": {
    "scrolled": true
   },
   "outputs": [
    {
     "data": {
      "image/png": "[encoded data removed]",
      "text/plain": [
       "<Figure size 864x216 with 1 Axes>"
      ]
     },
     "metadata": {},
     "output_type": "display_data"
    }
   ],
   "source": [
    "plot_prob(probs, max_w_size)"
   ]
  },
  {
   "cell_type": "markdown",
   "metadata": {},
   "source": [
    "# Evaluation on LSTM predictions\n",
    "\n",
    "Applying the same procedure to the predicted future values of LSTM network output, we should get *estimation* of probability of successful transmission of LoRa messages from end device to base station."
   ]
  },
  {
   "cell_type": "code",
   "execution_count": 4,
   "metadata": {},
   "outputs": [
    {
     "ename": "KeyboardInterrupt",
     "evalue": "",
     "output_type": "error",
     "traceback": [
      "\u001b[0;31m---------------------------------------------------------------------------\u001b[0m",
      "\u001b[0;31mKeyboardInterrupt\u001b[0m                         Traceback (most recent call last)",
      "\u001b[0;32m<ipython-input-4-b09394d43ea1>\u001b[0m in \u001b[0;36m<module>\u001b[0;34m\u001b[0m\n\u001b[1;32m      4\u001b[0m \u001b[0mprobs\u001b[0m \u001b[0;34m=\u001b[0m \u001b[0;34m[\u001b[0m\u001b[0;34m]\u001b[0m\u001b[0;34m\u001b[0m\u001b[0;34m\u001b[0m\u001b[0m\n\u001b[1;32m      5\u001b[0m \u001b[0;32mfor\u001b[0m \u001b[0mw\u001b[0m \u001b[0;32min\u001b[0m \u001b[0mmax_w_size\u001b[0m\u001b[0;34m:\u001b[0m\u001b[0;34m\u001b[0m\u001b[0;34m\u001b[0m\u001b[0m\n\u001b[0;32m----> 6\u001b[0;31m     \u001b[0mprobs\u001b[0m\u001b[0;34m.\u001b[0m\u001b[0mappend\u001b[0m\u001b[0;34m(\u001b[0m\u001b[0mestimate_prob\u001b[0m\u001b[0;34m(\u001b[0m\u001b[0my_test_pred_10\u001b[0m\u001b[0;34m,\u001b[0m \u001b[0mwindow_size\u001b[0m\u001b[0;34m=\u001b[0m\u001b[0mw\u001b[0m\u001b[0;34m)\u001b[0m\u001b[0;34m)\u001b[0m\u001b[0;34m\u001b[0m\u001b[0;34m\u001b[0m\u001b[0m\n\u001b[0m\u001b[1;32m      7\u001b[0m \u001b[0;34m\u001b[0m\u001b[0m\n\u001b[1;32m      8\u001b[0m \u001b[0mplot_prob\u001b[0m\u001b[0;34m(\u001b[0m\u001b[0mprobs\u001b[0m\u001b[0;34m,\u001b[0m \u001b[0mmax_w_size\u001b[0m\u001b[0;34m)\u001b[0m\u001b[0;34m\u001b[0m\u001b[0;34m\u001b[0m\u001b[0m\n",
      "\u001b[0;32m<ipython-input-1-6ae47ebecb22>\u001b[0m in \u001b[0;36mestimate_prob\u001b[0;34m(data, window_size)\u001b[0m\n\u001b[1;32m     23\u001b[0m         \u001b[0mones_freq\u001b[0m \u001b[0;34m=\u001b[0m \u001b[0;36m0\u001b[0m\u001b[0;34m\u001b[0m\u001b[0;34m\u001b[0m\u001b[0m\n\u001b[1;32m     24\u001b[0m         \u001b[0;32mfor\u001b[0m \u001b[0mdata_point\u001b[0m \u001b[0;32min\u001b[0m \u001b[0mwindow\u001b[0m\u001b[0;34m:\u001b[0m\u001b[0;34m\u001b[0m\u001b[0;34m\u001b[0m\u001b[0m\n\u001b[0;32m---> 25\u001b[0;31m             \u001b[0;32mif\u001b[0m \u001b[0mdata_point\u001b[0m \u001b[0;34m==\u001b[0m \u001b[0;36m1\u001b[0m\u001b[0;34m:\u001b[0m\u001b[0;34m\u001b[0m\u001b[0;34m\u001b[0m\u001b[0m\n\u001b[0m\u001b[1;32m     26\u001b[0m                 \u001b[0mones_freq\u001b[0m \u001b[0;34m+=\u001b[0m \u001b[0;36m1\u001b[0m\u001b[0;34m\u001b[0m\u001b[0;34m\u001b[0m\u001b[0m\n\u001b[1;32m     27\u001b[0m         \u001b[0mwindow_prob\u001b[0m\u001b[0;34m.\u001b[0m\u001b[0mappend\u001b[0m\u001b[0;34m(\u001b[0m\u001b[0mones_freq\u001b[0m\u001b[0;34m/\u001b[0m\u001b[0mwindow_size\u001b[0m\u001b[0;34m)\u001b[0m\u001b[0;34m\u001b[0m\u001b[0;34m\u001b[0m\u001b[0m\n",
      "\u001b[0;31mKeyboardInterrupt\u001b[0m: "
     ]
    }
   ],
   "source": [
    "max_w_size = [1, 10, 30, 60, 600, 1800, 3600, 9000, 50000]\n",
    "y_test_pred_10 = np.load(os.path.join(PROJ_ROOT, 'data/externals', 'y_test_pred_10.npy'))\n",
    "\n",
    "probs = []\n",
    "for w in max_w_size:\n",
    "    probs.append(estimate_prob(y_test_pred_10, window_size=w))\n",
    "    \n",
    "plot_prob(probs, max_w_size)"
   ]
  },
  {
   "cell_type": "markdown",
   "metadata": {},
   "source": [
    "# Probability distribution for the same element of the original data"
   ]
  },
  {
   "cell_type": "code",
   "execution_count": 25,
   "metadata": {},
   "outputs": [],
   "source": [
    "data_test = df[-5824584:].copy()"
   ]
  },
  {
   "cell_type": "code",
   "execution_count": 27,
   "metadata": {},
   "outputs": [
    {
     "data": {
      "image/png": "[encoded data removed]",
      "text/plain": [
       "<Figure size 864x216 with 1 Axes>"
      ]
     },
     "metadata": {},
     "output_type": "display_data"
    }
   ],
   "source": [
    "max_w_size = [1, 10, 30, 60, 600, 1800, 3600, 9000, 50000]\n",
    "\n",
    "probs_test_data = []\n",
    "for w in max_w_size:\n",
    "    probs_test_data.append(estimate_prob(data_test.Active, window_size=w))\n",
    " \n",
    "plot_prob(probs, max_w_size)"
   ]
  },
  {
   "cell_type": "code",
   "execution_count": null,
   "metadata": {},
   "outputs": [],
   "source": []
  }
 ],
 "metadata": {
  "kernelspec": {
   "display_name": "Python 3",
   "language": "python",
   "name": "python3"
  },
  "language_info": {
   "codemirror_mode": {
    "name": "ipython",
    "version": 3
   },
   "file_extension": ".py",
   "mimetype": "text/x-python",
   "name": "python",
   "nbconvert_exporter": "python",
   "pygments_lexer": "ipython3",
   "version": "3.7.1"
  }
 },
 "nbformat": 4,
 "nbformat_minor": 2
}
