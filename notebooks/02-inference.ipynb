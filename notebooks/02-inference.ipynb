{
 "cells": [
  {
   "cell_type": "markdown",
   "metadata": {},
   "source": [
    "# Probability of success transmission estimation"
   ]
  },
  {
   "cell_type": "markdown",
   "metadata": {},
   "source": [
    "For given period of time (*n* seconds) return probability of successful transimission of LoRa uplink message. \n",
    "\n",
    "Algorithm is based on the output of the LSTM network for estimation of activation of LoRa end device. Probability should rise up as time period gets bigger (*n*  is bigger). \n",
    "$$ n = 0 \\Rightarrow p_{st} = 0 $$ \n",
    "\n",
    "$$ n \\in <0, +\\infty> \\Rightarrow p_{st} \\in <0, 1> $$\n",
    "\n",
    "$$ n = \\infty \\Rightarrow p_{st} = 1 $$"
   ]
  },
  {
   "cell_type": "code",
   "execution_count": null,
   "metadata": {},
   "outputs": [],
   "source": []
  }
 ],
 "metadata": {
  "kernelspec": {
   "display_name": "Python 3",
   "language": "python",
   "name": "python3"
  },
  "language_info": {
   "codemirror_mode": {
    "name": "ipython",
    "version": 3
   },
   "file_extension": ".py",
   "mimetype": "text/x-python",
   "name": "python",
   "nbconvert_exporter": "python",
   "pygments_lexer": "ipython3",
   "version": "3.7.1"
  }
 },
 "nbformat": 4,
 "nbformat_minor": 2
}
