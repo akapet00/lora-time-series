{
 "cells": [
  {
   "cell_type": "markdown",
   "metadata": {},
   "source": [
    "# Probability of success transmission estimation"
   ]
  },
  {
   "cell_type": "markdown",
   "metadata": {},
   "source": [
    "For given period of time (*n* seconds) return probability of successful transimission of LoRa uplink message. \n",
    "\n",
    "Algorithm is based on the output of the LSTM network for estimation of activation of LoRa end device. Probability should rise up as time period gets bigger (*n*  is bigger). \n",
    "$$ n = 0 \\Rightarrow p_{st} = 0 $$ \n",
    "\n",
    "$$ n \\in <0, +\\infty> \\Rightarrow p_{st} \\in <0, 1> $$\n",
    "\n",
    "$$ n = \\infty \\Rightarrow p_{st} = 1 $$"
   ]
  },
  {
   "cell_type": "markdown",
   "metadata": {},
   "source": [
    "Estimation of successfully transmitted messages will be inferenced from LSTM output but function evaluation will be performed on measured data from real deployment. Data is structured as time series sequence of 1s and 0s which represents device activity. Resolution of time is on scale of seconds. Since the data is measured for the long period of time (more than few months), only partial data will be considered."
   ]
  },
  {
   "cell_type": "code",
   "execution_count": 1,
   "metadata": {},
   "outputs": [],
   "source": [
    "import pandas as pd\n",
    "import os\n",
    "\n",
    "PROJ_ROOT = os.path.abspath(os.path.join(os.pardir))\n",
    "PROCESSED_PATH = 'data/processed'\n",
    "\n",
    "df = pd.read_csv(os.path.join(PROJ_ROOT, PROCESSED_PATH, 'single_device_activation.csv'),\n",
    "                header=0, sep=',')"
   ]
  },
  {
   "cell_type": "markdown",
   "metadata": {},
   "source": [
    "Function will take 3 parameters:\n",
    "- data - original dataset structured as described above\n",
    "- sample - if the partial data taken as argument above is considered as population this will be finite sample of the population\n",
    "- window - number that represents number of elements of sliding window which will go through all of the sampled datam"
   ]
  },
  {
   "cell_type": "code",
   "execution_count": 2,
   "metadata": {},
   "outputs": [
    {
     "data": {
      "text/plain": [
       "0.0    99827\n",
       "1.0      173\n",
       "Name: Active, dtype: int64"
      ]
     },
     "execution_count": 2,
     "metadata": {},
     "output_type": "execute_result"
    }
   ],
   "source": [
    "df[:100000].Active.value_counts()"
   ]
  },
  {
   "cell_type": "code",
   "execution_count": 3,
   "metadata": {},
   "outputs": [],
   "source": [
    "data_test = df[:100000].copy()"
   ]
  },
  {
   "cell_type": "code",
   "execution_count": 4,
   "metadata": {},
   "outputs": [],
   "source": [
    "import matplotlib.pyplot as plt\n",
    "from itertools import islice\n",
    "import numpy as np\n",
    "\n",
    "def sampling(data, sample_size):\n",
    "    \"\"\"Returns sampled data sets\"\"\"\n",
    "    return [data[x:x+sample_size] for x in range(0, len(data), sample_size)] \n",
    "\n",
    "def gen_window(seq, n):\n",
    "    \"\"\"Returns a sliding window (of width n) over data from the iterable\"\"\"\n",
    "    it = iter(seq)\n",
    "    result = tuple(islice(it, n))\n",
    "    if len(result) == n:\n",
    "        yield result\n",
    "    for elem in it:\n",
    "        result = result[1:] + (elem,)\n",
    "        yield result\n",
    "\n",
    "def estimate_prob(data, window_size):\n",
    "    \"\"\"Returns a probability estimate for given data sample in \n",
    "       n=window_size number of seconds\"\"\"\n",
    "    windows = gen_window(data, n=window_size)\n",
    "\n",
    "    window_prob = []\n",
    "\n",
    "    for window in windows:\n",
    "        ones_freq = 0\n",
    "        for data_point in window:\n",
    "            if data_point == 1:\n",
    "                ones_freq += 1\n",
    "        window_prob.append(ones_freq/window_size)\n",
    "    return 1 - window_prob.count(0.0)/len(window_prob)\n",
    "\n",
    "def plot_data(data, time=range(24)):\n",
    "    fig = plt.figure(facecolor='white', figsize=(12,3))\n",
    "    plt.plot(time, data, 'b-.o')\n",
    "    plt.show()\n",
    "\n",
    "def plot_prob(probs, time_points):\n",
    "    fig = plt.figure(facecolor='white', figsize=(12,3))\n",
    "    plt.plot(range(1, time_points), probs, 'b.')\n",
    "    plt.show()"
   ]
  },
  {
   "cell_type": "code",
   "execution_count": 5,
   "metadata": {},
   "outputs": [],
   "source": [
    "sample1, sample2, sample3, sample4, sample5 = sampling(data_test, sample_size=20000)"
   ]
  },
  {
   "cell_type": "code",
   "execution_count": 8,
   "metadata": {},
   "outputs": [
    {
     "data": {
      "image/png": "[encoded data removed]",
      "text/plain": [
       "<Figure size 864x216 with 1 Axes>"
      ]
     },
     "metadata": {},
     "output_type": "display_data"
    }
   ],
   "source": [
    "probs_acc = []\n",
    "max_w_size = 1000\n",
    "for w in range(1, max_w_size):\n",
    "    probs = estimate_prob(sample1.Active, window_size=w)\n",
    "    probs_acc.append(probs)\n",
    "    \n",
    "plot_prob(probs_acc, max_w_size)"
   ]
  },
  {
   "cell_type": "code",
   "execution_count": null,
   "metadata": {},
   "outputs": [],
   "source": []
  }
 ],
 "metadata": {
  "kernelspec": {
   "display_name": "Python 3",
   "language": "python",
   "name": "python3"
  },
  "language_info": {
   "codemirror_mode": {
    "name": "ipython",
    "version": 3
   },
   "file_extension": ".py",
   "mimetype": "text/x-python",
   "name": "python",
   "nbconvert_exporter": "python",
   "pygments_lexer": "ipython3",
   "version": "3.7.1"
  }
 },
 "nbformat": 4,
 "nbformat_minor": 2
}
