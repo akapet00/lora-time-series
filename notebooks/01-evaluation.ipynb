{
 "cells": [
  {
   "cell_type": "code",
   "execution_count": 12,
   "metadata": {},
   "outputs": [],
   "source": [
    "# imports\n",
    "\n",
    "import pandas as pd\n",
    "import numpy as np\n",
    "import os\n",
    "import math\n",
    "import matplotlib\n",
    "import matplotlib.pyplot as plt\n",
    "plt.style.use('ggplot')"
   ]
  },
  {
   "cell_type": "code",
   "execution_count": 13,
   "metadata": {},
   "outputs": [],
   "source": [
    "# helper functions\n",
    "\n",
    "def split(X, y, ratio):    \n",
    "    test_split = int(len(X) * ratio)\n",
    "    \n",
    "    X_train, y_train = X[:test_split], y[:test_split]\n",
    "    X_test, y_test = X[test_split:], y[test_split:]\n",
    "    return X_train, y_train, X_test, y_test\n",
    "\n",
    "def plot_results(predicted_data, true_data):\n",
    "    matplotlib.rcParams.update({'font.size': 14})\n",
    "    fig = plt.figure(facecolor='white', figsize=(12,7)) \n",
    "    ax = fig.add_subplot(111)\n",
    "    ax.plot(true_data, '-', label='True Data')\n",
    "    plt.plot(predicted_data, 'o', label='Prediction')\n",
    "    plt.xlabel('Time (s)', fontsize=18)\n",
    "    plt.ylabel('Activation', fontsize=18)\n",
    "    plt.legend(fontsize=18)\n",
    "    plt.show()\n",
    "    \n",
    "def plot_results_multiple(predicted_data, true_data, prediction_len):\n",
    "    fig = plt.figure(facecolor='white', figsize=(12,7)) \n",
    "    ax = fig.add_subplot(111)\n",
    "    ax.plot(true_data, label='True Data')\n",
    "    for i, data in enumerate(predicted_data):\n",
    "        padding = [None for p in range(i * prediction_len)]\n",
    "        plt.plot(padding + data, label='Prediction')\n",
    "        plt.legend()\n",
    "    plt.show()"
   ]
  },
  {
   "cell_type": "code",
   "execution_count": 4,
   "metadata": {},
   "outputs": [],
   "source": [
    "# globals\n",
    "\n",
    "PROJ_ROOT = os.path.abspath(os.path.join(os.pardir))\n",
    "EXTERNALS_PATH = 'data/externals'"
   ]
  },
  {
   "cell_type": "code",
   "execution_count": null,
   "metadata": {},
   "outputs": [],
   "source": [
    "# train-test split\n",
    "\n",
    "X = np.load(os.path.join(PROJ_ROOT, EXTERNALS_PATH, 'X.npy'))\n",
    "y = np.load(os.path.join(PROJ_ROOT, EXTERNALS_PATH, 'y.npy'))\n",
    "X_train, y_train, X_test, y_test = split(X, y, ratio=0.8)"
   ]
  },
  {
   "cell_type": "markdown",
   "metadata": {},
   "source": [
    "## Model: 3 layers; 1 training epoch"
   ]
  },
  {
   "cell_type": "code",
   "execution_count": 5,
   "metadata": {},
   "outputs": [
    {
     "name": "stderr",
     "output_type": "stream",
     "text": [
      "Using TensorFlow backend.\n"
     ]
    },
    {
     "name": "stdout",
     "output_type": "stream",
     "text": [
      "WARNING:tensorflow:From /home/alk/anaconda3/lib/python3.7/site-packages/tensorflow/python/framework/op_def_library.py:263: colocate_with (from tensorflow.python.framework.ops) is deprecated and will be removed in a future version.\n",
      "Instructions for updating:\n",
      "Colocations handled automatically by placer.\n",
      "WARNING:tensorflow:From /home/alk/anaconda3/lib/python3.7/site-packages/keras/backend/tensorflow_backend.py:3445: calling dropout (from tensorflow.python.ops.nn_ops) with keep_prob is deprecated and will be removed in a future version.\n",
      "Instructions for updating:\n",
      "Please use `rate` instead of `keep_prob`. Rate should be set to `rate = 1 - keep_prob`.\n",
      "WARNING:tensorflow:From /home/alk/anaconda3/lib/python3.7/site-packages/tensorflow/python/ops/math_ops.py:3066: to_int32 (from tensorflow.python.ops.math_ops) is deprecated and will be removed in a future version.\n",
      "Instructions for updating:\n",
      "Use tf.cast instead.\n"
     ]
    }
   ],
   "source": [
    "from keras.models import load_model\n",
    "model = load_model('../saved_models/01052019-092342-e1.h5')"
   ]
  },
  {
   "cell_type": "code",
   "execution_count": 6,
   "metadata": {},
   "outputs": [
    {
     "name": "stdout",
     "output_type": "stream",
     "text": [
      "Train Score: 0.006708766659756012 MSE (0.08190706111048066 RMSE)\n",
      "Train Score: 3.605395133169648e-06 MSE (0.0018987878062515695 RMSE)\n"
     ]
    }
   ],
   "source": [
    "trainScore = model.evaluate(X_train, y_train, verbose=0)\n",
    "print(f'Train Score: {trainScore} MSE ({math.sqrt(trainScore)} RMSE)')\n",
    "\n",
    "testScore = model.evaluate(X_test, y_test, verbose=0)\n",
    "print(f'Test Score: {testScore} MSE ({math.sqrt(testScore)} RMSE)')"
   ]
  },
  {
   "cell_type": "code",
   "execution_count": 7,
   "metadata": {},
   "outputs": [],
   "source": [
    "y_train_pred = model.predict(X_train)\n",
    "y_test_pred = model.predict(X_test)"
   ]
  },
  {
   "cell_type": "code",
   "execution_count": 8,
   "metadata": {},
   "outputs": [
    {
     "data": {
      "text/plain": [
       "array([[0.000000e+00, 5.824563e+06],\n",
       "       [1.000000e+00, 2.100000e+01]])"
      ]
     },
     "execution_count": 8,
     "metadata": {},
     "output_type": "execute_result"
    }
   ],
   "source": [
    "# how many activations in actual testing set\n",
    "unique, counts = np.unique(y_test, return_counts=True)\n",
    "np.asarray((unique, counts)).T"
   ]
  },
  {
   "cell_type": "code",
   "execution_count": 9,
   "metadata": {},
   "outputs": [
    {
     "data": {
      "text/plain": [
       "array([[2.83986310e-06, 5.82448400e+06],\n",
       "       [5.11099825e-06, 2.00000000e+01],\n",
       "       [5.55253246e-06, 2.00000000e+01],\n",
       "       [6.64734034e-06, 2.00000000e+01],\n",
       "       [8.57259147e-06, 2.00000000e+01],\n",
       "       [9.02726970e-06, 2.00000000e+01]])"
      ]
     },
     "execution_count": 9,
     "metadata": {},
     "output_type": "execute_result"
    }
   ],
   "source": [
    "# how many unique model's output values \n",
    "y_test_pred = np.reshape(y_test_pred, (y_test_pred.size,))\n",
    "unique, counts = np.unique(y_test_pred, return_counts=True)\n",
    "np.asarray((unique, counts)).T"
   ]
  },
  {
   "cell_type": "code",
   "execution_count": 10,
   "metadata": {},
   "outputs": [
    {
     "data": {
      "text/plain": [
       "array([0., 0., 0., ..., 0., 0., 0.], dtype=float32)"
      ]
     },
     "execution_count": 10,
     "metadata": {},
     "output_type": "execute_result"
    }
   ],
   "source": [
    "# interpreting LSTM output values\n",
    "\n",
    "y_test_pred[y_test_pred==2.83986310e-06]=0\n",
    "y_test_pred[y_test_pred!=0]=1\n",
    "y_test_pred"
   ]
  },
  {
   "cell_type": "code",
   "execution_count": 11,
   "metadata": {},
   "outputs": [
    {
     "data": {
      "image/png": "[encoded data removed]",
      "text/plain": [
       "<Figure size 864x504 with 1 Axes>"
      ]
     },
     "metadata": {},
     "output_type": "display_data"
    }
   ],
   "source": [
    "plot_results(predicted_data=y_test_pred, \n",
    "             true_data=y_test)"
   ]
  },
  {
   "cell_type": "markdown",
   "metadata": {},
   "source": [
    "## Model: 5 layers; 10 training epochs"
   ]
  },
  {
   "cell_type": "code",
   "execution_count": 21,
   "metadata": {},
   "outputs": [],
   "source": [
    "from keras.models import load_model\n",
    "model = load_model('../saved_models/29052019-164232-e10.h5')"
   ]
  },
  {
   "cell_type": "code",
   "execution_count": 22,
   "metadata": {},
   "outputs": [],
   "source": [
    "y_train_pred_10 = model.predict(X_train)\n",
    "y_test_pred_10 = model.predict(X_test)"
   ]
  },
  {
   "cell_type": "code",
   "execution_count": 23,
   "metadata": {},
   "outputs": [
    {
     "data": {
      "text/plain": [
       "array([[1.21673493e-05, 5.82448400e+06],\n",
       "       [1.52176805e-03, 2.00000000e+01],\n",
       "       [1.84416212e-03, 2.00000000e+01],\n",
       "       [1.91396230e-03, 2.00000000e+01],\n",
       "       [1.91468524e-03, 2.00000000e+01],\n",
       "       [1.91875699e-03, 2.00000000e+01]])"
      ]
     },
     "execution_count": 23,
     "metadata": {},
     "output_type": "execute_result"
    }
   ],
   "source": [
    "# how many unique model's output values \n",
    "y_test_pred_10 = np.reshape(y_test_pred_10, (y_test_pred_10.size,))\n",
    "unique, counts = np.unique(y_test_pred_10, return_counts=True)\n",
    "np.asarray((unique, counts)).T"
   ]
  },
  {
   "cell_type": "code",
   "execution_count": 24,
   "metadata": {},
   "outputs": [
    {
     "data": {
      "text/plain": [
       "array([0., 0., 0., ..., 0., 0., 0.], dtype=float32)"
      ]
     },
     "execution_count": 24,
     "metadata": {},
     "output_type": "execute_result"
    }
   ],
   "source": [
    "# interpreting LSTM output values\n",
    "\n",
    "y_test_pred_10[y_test_pred_10==1.21673493e-05]=0\n",
    "y_test_pred_10[y_test_pred_10!=0]=1\n",
    "y_test_pred_10"
   ]
  },
  {
   "cell_type": "code",
   "execution_count": 26,
   "metadata": {},
   "outputs": [],
   "source": [
    "# save the output for the further evaluation\n",
    "np.save(os.path.join(PROJ_ROOT, EXTERNALS_PATH, 'y_test_pred_10.npy'), y_test_pred_10)"
   ]
  },
  {
   "cell_type": "code",
   "execution_count": 27,
   "metadata": {},
   "outputs": [
    {
     "data": {
      "image/png": "[encoded data removed]",
      "text/plain": [
       "<Figure size 864x504 with 1 Axes>"
      ]
     },
     "metadata": {},
     "output_type": "display_data"
    }
   ],
   "source": [
    "plot_results(predicted_data=y_test_pred_10, \n",
    "             true_data=y_test)"
   ]
  },
  {
   "cell_type": "markdown",
   "metadata": {},
   "source": [
    "# Predicting future sequnces \n",
    "\n",
    "## Model: 5 layers; 10 training epochs"
   ]
  },
  {
   "cell_type": "code",
   "execution_count": 6,
   "metadata": {},
   "outputs": [],
   "source": [
    "from keras.models import load_model\n",
    "model = load_model('../saved_models/29052019-164232-e10.h5')"
   ]
  },
  {
   "cell_type": "code",
   "execution_count": 7,
   "metadata": {},
   "outputs": [],
   "source": [
    "def predict_sequences_multiple(data, window_size, prediction_len):\n",
    "    prediction_seqs = []\n",
    "    for i in range(int(len(data)/prediction_len)):\n",
    "        curr_frame = data[i*prediction_len]\n",
    "        predicted = []\n",
    "        for j in range(prediction_len):\n",
    "            predicted.append(model.predict(curr_frame[np.newaxis,:,:])[0,0])\n",
    "            curr_frame = curr_frame[1:]\n",
    "            curr_frame = np.insert(curr_frame, [window_size-2], predicted[-1], axis=0)\n",
    "        prediction_seqs.append(predicted)\n",
    "    return prediction_seqs"
   ]
  },
  {
   "cell_type": "code",
   "execution_count": 9,
   "metadata": {},
   "outputs": [],
   "source": [
    "y_test_pred_10_seq = predict_sequences_multiple(data=X_test, \n",
    "                                                window_size=5, \n",
    "                                                prediction_len=10)"
   ]
  },
  {
   "cell_type": "markdown",
   "metadata": {},
   "source": [
    "# Figures refurbishment (before letter)"
   ]
  },
  {
   "cell_type": "code",
   "execution_count": 5,
   "metadata": {},
   "outputs": [],
   "source": [
    "# assessing the 22.10.2019. model output\n",
    "y_train_pred = np.load(os.path.join(PROJ_ROOT, EXTERNALS_PATH, 'y_train_pred.npy'))\n",
    "y_test_pred = np.load(os.path.join(PROJ_ROOT, EXTERNALS_PATH, 'y_test_pred.npy'))\n",
    "y = np.load(os.path.join(PROJ_ROOT, EXTERNALS_PATH, 'y.npy'))\n",
    "y_test = y[-len(y_test_pred):]"
   ]
  },
  {
   "cell_type": "code",
   "execution_count": 6,
   "metadata": {},
   "outputs": [
    {
     "data": {
      "text/plain": [
       "array([[1.46799903e-05, 5.82448400e+06],\n",
       "       [1.60810414e-05, 2.00000000e+01],\n",
       "       [1.83247303e-05, 2.00000000e+01],\n",
       "       [2.40590543e-05, 2.00000000e+01],\n",
       "       [3.39290709e-05, 2.00000000e+01],\n",
       "       [9.44096537e-04, 2.00000000e+01]])"
      ]
     },
     "execution_count": 6,
     "metadata": {},
     "output_type": "execute_result"
    }
   ],
   "source": [
    "y_test_pred = np.reshape(y_test_pred, (y_test_pred.size,))\n",
    "unique, counts = np.unique(y_test_pred, return_counts=True)\n",
    "np.asarray((unique, counts)).T"
   ]
  },
  {
   "cell_type": "code",
   "execution_count": 7,
   "metadata": {},
   "outputs": [],
   "source": [
    "y_test_pred[y_test_pred==1.46799903e-05]=0\n",
    "y_test_pred[y_test_pred==1.60810414e-05]=0\n",
    "y_test_pred[y_test_pred==1.83247303e-05]=0\n",
    "y_test_pred[y_test_pred==2.40590543e-05]=0\n",
    "y_test_pred[y_test_pred==3.39290709e-05]=0\n",
    "y_test_pred[y_test_pred!=0]=1"
   ]
  },
  {
   "cell_type": "code",
   "execution_count": 14,
   "metadata": {},
   "outputs": [
    {
     "name": "stderr",
     "output_type": "stream",
     "text": [
      "/home/alk/anaconda3/lib/python3.7/site-packages/IPython/core/pylabtools.py:128: UserWarning: Creating legend with loc=\"best\" can be slow with large amounts of data.\n",
      "  fig.canvas.print_figure(bytes_io, **kw)\n"
     ]
    },
    {
     "data": {
      "image/png": "[encoded data removed]",
      "text/plain": [
       "<Figure size 864x504 with 1 Axes>"
      ]
     },
     "metadata": {},
     "output_type": "display_data"
    }
   ],
   "source": [
    "plot_results(predicted_data=y_test_pred, \n",
    "             true_data=y_test)"
   ]
  },
  {
   "cell_type": "code",
   "execution_count": 18,
   "metadata": {},
   "outputs": [
    {
     "name": "stdout",
     "output_type": "stream",
     "text": [
      "/home/alk/github/lora-time-series\n"
     ]
    },
    {
     "data": {
      "text/html": [
       "<div>\n",
       "<style scoped>\n",
       "    .dataframe tbody tr th:only-of-type {\n",
       "        vertical-align: middle;\n",
       "    }\n",
       "\n",
       "    .dataframe tbody tr th {\n",
       "        vertical-align: top;\n",
       "    }\n",
       "\n",
       "    .dataframe thead th {\n",
       "        text-align: right;\n",
       "    }\n",
       "</style>\n",
       "<table border=\"1\" class=\"dataframe\">\n",
       "  <thead>\n",
       "    <tr style=\"text-align: right;\">\n",
       "      <th></th>\n",
       "      <th>Time</th>\n",
       "      <th>DevAddr</th>\n",
       "      <th>Freq</th>\n",
       "      <th>Chan</th>\n",
       "      <th>BW</th>\n",
       "      <th>SPF</th>\n",
       "      <th>RSSI</th>\n",
       "      <th>SNR</th>\n",
       "      <th>4/5</th>\n",
       "      <th>dataRate</th>\n",
       "      <th>crcStatus</th>\n",
       "      <th>mType</th>\n",
       "      <th>macPayload</th>\n",
       "      <th>_id</th>\n",
       "    </tr>\n",
       "  </thead>\n",
       "  <tbody>\n",
       "    <tr>\n",
       "      <th>0</th>\n",
       "      <td>2017-01-02 12:08:27.788000</td>\n",
       "      <td>000013c1</td>\n",
       "      <td>868100000</td>\n",
       "      <td>0</td>\n",
       "      <td>125</td>\n",
       "      <td>7</td>\n",
       "      <td>-120</td>\n",
       "      <td>-1.0</td>\n",
       "      <td>4/5</td>\n",
       "      <td>{u'modulation': u'LORA', u'bandwidth': 125, u'...</td>\n",
       "      <td>1</td>\n",
       "      <td>Confirmed Data Up</td>\n",
       "      <td>c1130000804605039977d43d70b12724eea946c5a41f42...</td>\n",
       "      <td>586a34acb5866106ea976eb5</td>\n",
       "    </tr>\n",
       "    <tr>\n",
       "      <th>1</th>\n",
       "      <td>2017-01-02 12:08:29.196000</td>\n",
       "      <td>000013b8</td>\n",
       "      <td>868500000</td>\n",
       "      <td>2</td>\n",
       "      <td>125</td>\n",
       "      <td>7</td>\n",
       "      <td>-58</td>\n",
       "      <td>6.5</td>\n",
       "      <td>4/5</td>\n",
       "      <td>{u'modulation': u'LORA', u'bandwidth': 125, u'...</td>\n",
       "      <td>1</td>\n",
       "      <td>Confirmed Data Up</td>\n",
       "      <td>b813000000142b0352619fc9a89e0e561d060ca3ac29e5...</td>\n",
       "      <td>586a34aeb5866106ea976eb6</td>\n",
       "    </tr>\n",
       "    <tr>\n",
       "      <th>2</th>\n",
       "      <td>2017-01-02 12:08:44.520000</td>\n",
       "      <td>000013bf</td>\n",
       "      <td>868300000</td>\n",
       "      <td>1</td>\n",
       "      <td>125</td>\n",
       "      <td>7</td>\n",
       "      <td>-118,8</td>\n",
       "      <td>-1.8</td>\n",
       "      <td>4/5</td>\n",
       "      <td>{u'modulation': u'LORA', u'bandwidth': 125, u'...</td>\n",
       "      <td>1</td>\n",
       "      <td>Confirmed Data Up</td>\n",
       "      <td>bf13000080ba30042ea26888992702442c832fc2c8ac91...</td>\n",
       "      <td>586a34bdb5866106ea976eb7</td>\n",
       "    </tr>\n",
       "    <tr>\n",
       "      <th>3</th>\n",
       "      <td>2017-01-02 12:08:55.347000</td>\n",
       "      <td>000013bf</td>\n",
       "      <td>868500000</td>\n",
       "      <td>2</td>\n",
       "      <td>125</td>\n",
       "      <td>7</td>\n",
       "      <td>-115</td>\n",
       "      <td>1.8</td>\n",
       "      <td>4/5</td>\n",
       "      <td>{u'modulation': u'LORA', u'bandwidth': 125, u'...</td>\n",
       "      <td>1</td>\n",
       "      <td>Confirmed Data Up</td>\n",
       "      <td>bf13000080bb30030a96702f4ebe2cfe8559765a622344...</td>\n",
       "      <td>586a34c8b5866106ea976eb8</td>\n",
       "    </tr>\n",
       "    <tr>\n",
       "      <th>4</th>\n",
       "      <td>2017-01-02 12:08:55.346000</td>\n",
       "      <td>000013bf</td>\n",
       "      <td>868500000</td>\n",
       "      <td>2</td>\n",
       "      <td>125</td>\n",
       "      <td>7</td>\n",
       "      <td>-115</td>\n",
       "      <td>1.8</td>\n",
       "      <td>4/5</td>\n",
       "      <td>{u'modulation': u'LORA', u'bandwidth': 125, u'...</td>\n",
       "      <td>1</td>\n",
       "      <td>Confirmed Data Up</td>\n",
       "      <td>bf13000080bb30030a96702f4ebe2cfe8559765a622344...</td>\n",
       "      <td>586a34c8b5866106ea976eb9</td>\n",
       "    </tr>\n",
       "  </tbody>\n",
       "</table>\n",
       "</div>"
      ],
      "text/plain": [
       "                         Time   DevAddr       Freq  Chan   BW  SPF    RSSI  \\\n",
       "0  2017-01-02 12:08:27.788000  000013c1  868100000     0  125    7    -120   \n",
       "1  2017-01-02 12:08:29.196000  000013b8  868500000     2  125    7     -58   \n",
       "2  2017-01-02 12:08:44.520000  000013bf  868300000     1  125    7  -118,8   \n",
       "3  2017-01-02 12:08:55.347000  000013bf  868500000     2  125    7    -115   \n",
       "4  2017-01-02 12:08:55.346000  000013bf  868500000     2  125    7    -115   \n",
       "\n",
       "   SNR   4/5                                           dataRate  crcStatus  \\\n",
       "0 -1.0   4/5  {u'modulation': u'LORA', u'bandwidth': 125, u'...          1   \n",
       "1  6.5   4/5  {u'modulation': u'LORA', u'bandwidth': 125, u'...          1   \n",
       "2 -1.8   4/5  {u'modulation': u'LORA', u'bandwidth': 125, u'...          1   \n",
       "3  1.8   4/5  {u'modulation': u'LORA', u'bandwidth': 125, u'...          1   \n",
       "4  1.8   4/5  {u'modulation': u'LORA', u'bandwidth': 125, u'...          1   \n",
       "\n",
       "               mType                                         macPayload  \\\n",
       "0  Confirmed Data Up  c1130000804605039977d43d70b12724eea946c5a41f42...   \n",
       "1  Confirmed Data Up  b813000000142b0352619fc9a89e0e561d060ca3ac29e5...   \n",
       "2  Confirmed Data Up  bf13000080ba30042ea26888992702442c832fc2c8ac91...   \n",
       "3  Confirmed Data Up  bf13000080bb30030a96702f4ebe2cfe8559765a622344...   \n",
       "4  Confirmed Data Up  bf13000080bb30030a96702f4ebe2cfe8559765a622344...   \n",
       "\n",
       "                        _id  \n",
       "0  586a34acb5866106ea976eb5  \n",
       "1  586a34aeb5866106ea976eb6  \n",
       "2  586a34bdb5866106ea976eb7  \n",
       "3  586a34c8b5866106ea976eb8  \n",
       "4  586a34c8b5866106ea976eb9  "
      ]
     },
     "execution_count": 18,
     "metadata": {},
     "output_type": "execute_result"
    }
   ],
   "source": [
    "# error assessment\n",
    "%matplotlib inline\n",
    "import pandas as pd\n",
    "import numpy as np\n",
    "import matplotlib.pyplot as plt\n",
    "import seaborn as sns\n",
    "import os\n",
    "PROJ_ROOT = os.path.abspath(os.path.join(os.pardir))\n",
    "print(PROJ_ROOT)\n",
    "\n",
    "DATASET_PATH = 'data/raw'\n",
    "\n",
    "data_fname = os.path.join(PROJ_ROOT, DATASET_PATH, 'LORA_data.csv')\n",
    "dframe = pd.read_csv(data_fname, header=0, sep=';')\n",
    "dframe.head()"
   ]
  },
  {
   "cell_type": "code",
   "execution_count": 21,
   "metadata": {},
   "outputs": [
    {
     "data": {
      "text/html": [
       "<div>\n",
       "<style scoped>\n",
       "    .dataframe tbody tr th:only-of-type {\n",
       "        vertical-align: middle;\n",
       "    }\n",
       "\n",
       "    .dataframe tbody tr th {\n",
       "        vertical-align: top;\n",
       "    }\n",
       "\n",
       "    .dataframe thead th {\n",
       "        text-align: right;\n",
       "    }\n",
       "</style>\n",
       "<table border=\"1\" class=\"dataframe\">\n",
       "  <thead>\n",
       "    <tr style=\"text-align: right;\">\n",
       "      <th></th>\n",
       "      <th>Time</th>\n",
       "      <th>DevAddr</th>\n",
       "    </tr>\n",
       "  </thead>\n",
       "  <tbody>\n",
       "    <tr>\n",
       "      <th>0</th>\n",
       "      <td>2017-01-02 12:08:27</td>\n",
       "      <td>000013c1</td>\n",
       "    </tr>\n",
       "    <tr>\n",
       "      <th>8</th>\n",
       "      <td>2017-01-02 12:09:29</td>\n",
       "      <td>000013c1</td>\n",
       "    </tr>\n",
       "    <tr>\n",
       "      <th>16</th>\n",
       "      <td>2017-01-02 12:11:29</td>\n",
       "      <td>000013c1</td>\n",
       "    </tr>\n",
       "    <tr>\n",
       "      <th>18</th>\n",
       "      <td>2017-01-02 12:12:27</td>\n",
       "      <td>000013c1</td>\n",
       "    </tr>\n",
       "    <tr>\n",
       "      <th>25</th>\n",
       "      <td>2017-01-02 12:13:29</td>\n",
       "      <td>000013c1</td>\n",
       "    </tr>\n",
       "  </tbody>\n",
       "</table>\n",
       "</div>"
      ],
      "text/plain": [
       "                  Time   DevAddr\n",
       "0  2017-01-02 12:08:27  000013c1\n",
       "8  2017-01-02 12:09:29  000013c1\n",
       "16 2017-01-02 12:11:29  000013c1\n",
       "18 2017-01-02 12:12:27  000013c1\n",
       "25 2017-01-02 12:13:29  000013c1"
      ]
     },
     "execution_count": 21,
     "metadata": {},
     "output_type": "execute_result"
    }
   ],
   "source": [
    "def remove_ns(data):\n",
    "    Time = list(data.Time.values)\n",
    "    Time_parsed = []\n",
    "    sep = '.'\n",
    "    for t in Time:\n",
    "        t_parsed = t.split(sep, 1)[0]\n",
    "        Time_parsed.append(t_parsed)\n",
    "    data.Time = Time_parsed\n",
    "    data['Time'] = pd.to_datetime(data['Time'])\n",
    "    return data\n",
    "\n",
    "data = dframe.copy()\n",
    "data = data[['Time', 'DevAddr']]\n",
    "\n",
    "data = remove_ns(data)\n",
    "dev1 = data[data.DevAddr == '000013c1']\n",
    "dev1.head()"
   ]
  },
  {
   "cell_type": "code",
   "execution_count": 22,
   "metadata": {},
   "outputs": [],
   "source": [
    "diff_list = [] \n",
    "for x, y in zip(dev1.Time[0::], dev1.Time[1::]): \n",
    "    diff_list.append(y-x) "
   ]
  },
  {
   "cell_type": "code",
   "execution_count": 40,
   "metadata": {},
   "outputs": [],
   "source": [
    "import datetime\n",
    "\n",
    "diff_list_s = []\n",
    "for td in diff_list:\n",
    "    td = td.total_seconds()\n",
    "    diff_list_s.append(td)"
   ]
  },
  {
   "cell_type": "code",
   "execution_count": 62,
   "metadata": {},
   "outputs": [],
   "source": [
    "diff_list_s_clean = [x for x in diff_list_s if x>0 and x<500 and x != np.nan]"
   ]
  },
  {
   "cell_type": "code",
   "execution_count": 78,
   "metadata": {},
   "outputs": [
    {
     "data": {
      "image/png": "[encoded data removed]",
      "text/plain": [
       "<Figure size 864x504 with 1 Axes>"
      ]
     },
     "metadata": {},
     "output_type": "display_data"
    }
   ],
   "source": [
    "matplotlib.rcParams.update({'font.size': 14})\n",
    "fig = plt.figure(facecolor='white', figsize=(12,7)) \n",
    "plt.hist(diff_list_s_clean, bins=22)\n",
    "plt.axvline(x=2, color='blue')\n",
    "plt.legend(['MAE=2s','time differences',], loc='best', fontsize=18)\n",
    "plt.xlabel('Time (s)', fontsize=18)\n",
    "plt.ylabel('Number of activations', fontsize=18)\n",
    "plt.show()"
   ]
  }
 ],
 "metadata": {
  "kernelspec": {
   "display_name": "Python 3",
   "language": "python",
   "name": "python3"
  },
  "language_info": {
   "codemirror_mode": {
    "name": "ipython",
    "version": 3
   },
   "file_extension": ".py",
   "mimetype": "text/x-python",
   "name": "python",
   "nbconvert_exporter": "python",
   "pygments_lexer": "ipython3",
   "version": "3.7.3"
  }
 },
 "nbformat": 4,
 "nbformat_minor": 2
}
