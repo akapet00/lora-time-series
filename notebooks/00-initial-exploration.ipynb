{
 "cells": [
  {
   "cell_type": "markdown",
   "metadata": {},
   "source": [
    "Loading *watermark* extension and printing details about running platform."
   ]
  },
  {
   "cell_type": "code",
   "execution_count": 66,
   "metadata": {},
   "outputs": [
    {
     "name": "stdout",
     "output_type": "stream",
     "text": [
      "The watermark extension is already loaded. To reload it, use:\n",
      "  %reload_ext watermark\n",
      "Fri Apr 26 2019 \n",
      "\n",
      "CPython 3.7.1\n",
      "IPython 7.4.0\n",
      "\n",
      "numpy 1.16.3\n",
      "pandas 0.24.2\n",
      "sklearn 0.20.3\n",
      "tensorflow 1.13.1\n",
      "keras 2.2.4\n",
      "\n",
      "compiler   : GCC 7.3.0\n",
      "system     : Linux\n",
      "release    : 4.15.0-47-generic\n",
      "machine    : x86_64\n",
      "processor  : x86_64\n",
      "CPU cores  : 4\n",
      "interpreter: 64bit\n"
     ]
    }
   ],
   "source": [
    "%load_ext watermark\n",
    "%watermark -v -n -m -p numpy,pandas,sklearn,tensorflow,keras"
   ]
  },
  {
   "cell_type": "markdown",
   "metadata": {},
   "source": [
    "## Quick Exploration of Svebolle Deployment"
   ]
  },
  {
   "cell_type": "code",
   "execution_count": 67,
   "metadata": {},
   "outputs": [
    {
     "name": "stdout",
     "output_type": "stream",
     "text": [
      "/home/alk/Github/lora-time-series\n"
     ]
    }
   ],
   "source": [
    "%matplotlib inline\n",
    "import pandas as pd\n",
    "import numpy as np\n",
    "import matplotlib.pyplot as plt\n",
    "import seaborn as sns\n",
    "import os\n",
    "PROJ_ROOT = os.path.abspath(os.path.join(os.pardir))\n",
    "print(PROJ_ROOT)"
   ]
  },
  {
   "cell_type": "code",
   "execution_count": 68,
   "metadata": {},
   "outputs": [],
   "source": [
    "DATASET_PATH = 'src/data/raw'"
   ]
  },
  {
   "cell_type": "code",
   "execution_count": 69,
   "metadata": {},
   "outputs": [
    {
     "data": {
      "text/html": [
       "<div>\n",
       "<style scoped>\n",
       "    .dataframe tbody tr th:only-of-type {\n",
       "        vertical-align: middle;\n",
       "    }\n",
       "\n",
       "    .dataframe tbody tr th {\n",
       "        vertical-align: top;\n",
       "    }\n",
       "\n",
       "    .dataframe thead th {\n",
       "        text-align: right;\n",
       "    }\n",
       "</style>\n",
       "<table border=\"1\" class=\"dataframe\">\n",
       "  <thead>\n",
       "    <tr style=\"text-align: right;\">\n",
       "      <th></th>\n",
       "      <th>Time</th>\n",
       "      <th>DevAddr</th>\n",
       "      <th>Freq</th>\n",
       "      <th>Chan</th>\n",
       "      <th>BW</th>\n",
       "      <th>SPF</th>\n",
       "      <th>RSSI</th>\n",
       "      <th>SNR</th>\n",
       "      <th>4/5</th>\n",
       "      <th>dataRate</th>\n",
       "      <th>crcStatus</th>\n",
       "      <th>mType</th>\n",
       "      <th>macPayload</th>\n",
       "      <th>_id</th>\n",
       "    </tr>\n",
       "  </thead>\n",
       "  <tbody>\n",
       "    <tr>\n",
       "      <th>0</th>\n",
       "      <td>2017-01-02 12:08:27.788000</td>\n",
       "      <td>000013c1</td>\n",
       "      <td>868100000</td>\n",
       "      <td>0</td>\n",
       "      <td>125</td>\n",
       "      <td>7</td>\n",
       "      <td>-120</td>\n",
       "      <td>-1.0</td>\n",
       "      <td>4/5</td>\n",
       "      <td>{u'modulation': u'LORA', u'bandwidth': 125, u'...</td>\n",
       "      <td>1</td>\n",
       "      <td>Confirmed Data Up</td>\n",
       "      <td>c1130000804605039977d43d70b12724eea946c5a41f42...</td>\n",
       "      <td>586a34acb5866106ea976eb5</td>\n",
       "    </tr>\n",
       "    <tr>\n",
       "      <th>1</th>\n",
       "      <td>2017-01-02 12:08:29.196000</td>\n",
       "      <td>000013b8</td>\n",
       "      <td>868500000</td>\n",
       "      <td>2</td>\n",
       "      <td>125</td>\n",
       "      <td>7</td>\n",
       "      <td>-58</td>\n",
       "      <td>6.5</td>\n",
       "      <td>4/5</td>\n",
       "      <td>{u'modulation': u'LORA', u'bandwidth': 125, u'...</td>\n",
       "      <td>1</td>\n",
       "      <td>Confirmed Data Up</td>\n",
       "      <td>b813000000142b0352619fc9a89e0e561d060ca3ac29e5...</td>\n",
       "      <td>586a34aeb5866106ea976eb6</td>\n",
       "    </tr>\n",
       "    <tr>\n",
       "      <th>2</th>\n",
       "      <td>2017-01-02 12:08:44.520000</td>\n",
       "      <td>000013bf</td>\n",
       "      <td>868300000</td>\n",
       "      <td>1</td>\n",
       "      <td>125</td>\n",
       "      <td>7</td>\n",
       "      <td>-118,8</td>\n",
       "      <td>-1.8</td>\n",
       "      <td>4/5</td>\n",
       "      <td>{u'modulation': u'LORA', u'bandwidth': 125, u'...</td>\n",
       "      <td>1</td>\n",
       "      <td>Confirmed Data Up</td>\n",
       "      <td>bf13000080ba30042ea26888992702442c832fc2c8ac91...</td>\n",
       "      <td>586a34bdb5866106ea976eb7</td>\n",
       "    </tr>\n",
       "    <tr>\n",
       "      <th>3</th>\n",
       "      <td>2017-01-02 12:08:55.347000</td>\n",
       "      <td>000013bf</td>\n",
       "      <td>868500000</td>\n",
       "      <td>2</td>\n",
       "      <td>125</td>\n",
       "      <td>7</td>\n",
       "      <td>-115</td>\n",
       "      <td>1.8</td>\n",
       "      <td>4/5</td>\n",
       "      <td>{u'modulation': u'LORA', u'bandwidth': 125, u'...</td>\n",
       "      <td>1</td>\n",
       "      <td>Confirmed Data Up</td>\n",
       "      <td>bf13000080bb30030a96702f4ebe2cfe8559765a622344...</td>\n",
       "      <td>586a34c8b5866106ea976eb8</td>\n",
       "    </tr>\n",
       "    <tr>\n",
       "      <th>4</th>\n",
       "      <td>2017-01-02 12:08:55.346000</td>\n",
       "      <td>000013bf</td>\n",
       "      <td>868500000</td>\n",
       "      <td>2</td>\n",
       "      <td>125</td>\n",
       "      <td>7</td>\n",
       "      <td>-115</td>\n",
       "      <td>1.8</td>\n",
       "      <td>4/5</td>\n",
       "      <td>{u'modulation': u'LORA', u'bandwidth': 125, u'...</td>\n",
       "      <td>1</td>\n",
       "      <td>Confirmed Data Up</td>\n",
       "      <td>bf13000080bb30030a96702f4ebe2cfe8559765a622344...</td>\n",
       "      <td>586a34c8b5866106ea976eb9</td>\n",
       "    </tr>\n",
       "  </tbody>\n",
       "</table>\n",
       "</div>"
      ],
      "text/plain": [
       "                         Time   DevAddr       Freq  Chan   BW  SPF    RSSI  \\\n",
       "0  2017-01-02 12:08:27.788000  000013c1  868100000     0  125    7    -120   \n",
       "1  2017-01-02 12:08:29.196000  000013b8  868500000     2  125    7     -58   \n",
       "2  2017-01-02 12:08:44.520000  000013bf  868300000     1  125    7  -118,8   \n",
       "3  2017-01-02 12:08:55.347000  000013bf  868500000     2  125    7    -115   \n",
       "4  2017-01-02 12:08:55.346000  000013bf  868500000     2  125    7    -115   \n",
       "\n",
       "   SNR   4/5                                           dataRate  crcStatus  \\\n",
       "0 -1.0   4/5  {u'modulation': u'LORA', u'bandwidth': 125, u'...          1   \n",
       "1  6.5   4/5  {u'modulation': u'LORA', u'bandwidth': 125, u'...          1   \n",
       "2 -1.8   4/5  {u'modulation': u'LORA', u'bandwidth': 125, u'...          1   \n",
       "3  1.8   4/5  {u'modulation': u'LORA', u'bandwidth': 125, u'...          1   \n",
       "4  1.8   4/5  {u'modulation': u'LORA', u'bandwidth': 125, u'...          1   \n",
       "\n",
       "               mType                                         macPayload  \\\n",
       "0  Confirmed Data Up  c1130000804605039977d43d70b12724eea946c5a41f42...   \n",
       "1  Confirmed Data Up  b813000000142b0352619fc9a89e0e561d060ca3ac29e5...   \n",
       "2  Confirmed Data Up  bf13000080ba30042ea26888992702442c832fc2c8ac91...   \n",
       "3  Confirmed Data Up  bf13000080bb30030a96702f4ebe2cfe8559765a622344...   \n",
       "4  Confirmed Data Up  bf13000080bb30030a96702f4ebe2cfe8559765a622344...   \n",
       "\n",
       "                        _id  \n",
       "0  586a34acb5866106ea976eb5  \n",
       "1  586a34aeb5866106ea976eb6  \n",
       "2  586a34bdb5866106ea976eb7  \n",
       "3  586a34c8b5866106ea976eb8  \n",
       "4  586a34c8b5866106ea976eb9  "
      ]
     },
     "execution_count": 69,
     "metadata": {},
     "output_type": "execute_result"
    }
   ],
   "source": [
    "data_fname = os.path.join(PROJ_ROOT, DATASET_PATH, 'LORA_data.csv')\n",
    "dframe = pd.read_csv(data_fname, header=0, sep=';')\n",
    "dframe.head()"
   ]
  },
  {
   "cell_type": "code",
   "execution_count": 70,
   "metadata": {},
   "outputs": [],
   "source": [
    "data = dframe.copy()"
   ]
  },
  {
   "cell_type": "code",
   "execution_count": 71,
   "metadata": {},
   "outputs": [
    {
     "data": {
      "text/html": [
       "<div>\n",
       "<style scoped>\n",
       "    .dataframe tbody tr th:only-of-type {\n",
       "        vertical-align: middle;\n",
       "    }\n",
       "\n",
       "    .dataframe tbody tr th {\n",
       "        vertical-align: top;\n",
       "    }\n",
       "\n",
       "    .dataframe thead th {\n",
       "        text-align: right;\n",
       "    }\n",
       "</style>\n",
       "<table border=\"1\" class=\"dataframe\">\n",
       "  <thead>\n",
       "    <tr style=\"text-align: right;\">\n",
       "      <th></th>\n",
       "      <th>Time</th>\n",
       "      <th>DevAddr</th>\n",
       "    </tr>\n",
       "  </thead>\n",
       "  <tbody>\n",
       "    <tr>\n",
       "      <th>0</th>\n",
       "      <td>2017-01-02 12:08:27.788000</td>\n",
       "      <td>000013c1</td>\n",
       "    </tr>\n",
       "    <tr>\n",
       "      <th>1</th>\n",
       "      <td>2017-01-02 12:08:29.196000</td>\n",
       "      <td>000013b8</td>\n",
       "    </tr>\n",
       "    <tr>\n",
       "      <th>2</th>\n",
       "      <td>2017-01-02 12:08:44.520000</td>\n",
       "      <td>000013bf</td>\n",
       "    </tr>\n",
       "    <tr>\n",
       "      <th>3</th>\n",
       "      <td>2017-01-02 12:08:55.347000</td>\n",
       "      <td>000013bf</td>\n",
       "    </tr>\n",
       "    <tr>\n",
       "      <th>4</th>\n",
       "      <td>2017-01-02 12:08:55.346000</td>\n",
       "      <td>000013bf</td>\n",
       "    </tr>\n",
       "  </tbody>\n",
       "</table>\n",
       "</div>"
      ],
      "text/plain": [
       "                         Time   DevAddr\n",
       "0  2017-01-02 12:08:27.788000  000013c1\n",
       "1  2017-01-02 12:08:29.196000  000013b8\n",
       "2  2017-01-02 12:08:44.520000  000013bf\n",
       "3  2017-01-02 12:08:55.347000  000013bf\n",
       "4  2017-01-02 12:08:55.346000  000013bf"
      ]
     },
     "execution_count": 71,
     "metadata": {},
     "output_type": "execute_result"
    }
   ],
   "source": [
    "data = data[['Time', 'DevAddr']]\n",
    "data.head()"
   ]
  },
  {
   "cell_type": "markdown",
   "metadata": {},
   "source": [
    "## Feature Engineering"
   ]
  },
  {
   "cell_type": "code",
   "execution_count": 72,
   "metadata": {},
   "outputs": [
    {
     "data": {
      "text/html": [
       "<div>\n",
       "<style scoped>\n",
       "    .dataframe tbody tr th:only-of-type {\n",
       "        vertical-align: middle;\n",
       "    }\n",
       "\n",
       "    .dataframe tbody tr th {\n",
       "        vertical-align: top;\n",
       "    }\n",
       "\n",
       "    .dataframe thead th {\n",
       "        text-align: right;\n",
       "    }\n",
       "</style>\n",
       "<table border=\"1\" class=\"dataframe\">\n",
       "  <thead>\n",
       "    <tr style=\"text-align: right;\">\n",
       "      <th></th>\n",
       "      <th>Time</th>\n",
       "      <th>DevAddr</th>\n",
       "    </tr>\n",
       "  </thead>\n",
       "  <tbody>\n",
       "    <tr>\n",
       "      <th>0</th>\n",
       "      <td>2017-01-02 12:08:27</td>\n",
       "      <td>000013c1</td>\n",
       "    </tr>\n",
       "    <tr>\n",
       "      <th>1</th>\n",
       "      <td>2017-01-02 12:08:29</td>\n",
       "      <td>000013b8</td>\n",
       "    </tr>\n",
       "    <tr>\n",
       "      <th>2</th>\n",
       "      <td>2017-01-02 12:08:44</td>\n",
       "      <td>000013bf</td>\n",
       "    </tr>\n",
       "    <tr>\n",
       "      <th>3</th>\n",
       "      <td>2017-01-02 12:08:55</td>\n",
       "      <td>000013bf</td>\n",
       "    </tr>\n",
       "    <tr>\n",
       "      <th>4</th>\n",
       "      <td>2017-01-02 12:08:55</td>\n",
       "      <td>000013bf</td>\n",
       "    </tr>\n",
       "  </tbody>\n",
       "</table>\n",
       "</div>"
      ],
      "text/plain": [
       "                 Time   DevAddr\n",
       "0 2017-01-02 12:08:27  000013c1\n",
       "1 2017-01-02 12:08:29  000013b8\n",
       "2 2017-01-02 12:08:44  000013bf\n",
       "3 2017-01-02 12:08:55  000013bf\n",
       "4 2017-01-02 12:08:55  000013bf"
      ]
     },
     "execution_count": 72,
     "metadata": {},
     "output_type": "execute_result"
    }
   ],
   "source": [
    "def remove_ns(data):\n",
    "    Time = list(data.Time.values)\n",
    "    Time_parsed = []\n",
    "    sep = '.'\n",
    "    for t in Time:\n",
    "        t_parsed = t.split(sep, 1)[0]\n",
    "        Time_parsed.append(t_parsed)\n",
    "    data.Time = Time_parsed\n",
    "    data['Time'] = pd.to_datetime(data['Time'])\n",
    "    return data\n",
    "        \n",
    "data = remove_ns(data)\n",
    "data.head()"
   ]
  },
  {
   "cell_type": "code",
   "execution_count": 80,
   "metadata": {},
   "outputs": [
    {
     "data": {
      "text/plain": [
       "<matplotlib.axes._subplots.AxesSubplot at 0x7f47d03a77b8>"
      ]
     },
     "execution_count": 80,
     "metadata": {},
     "output_type": "execute_result"
    },
    {
     "data": {
      "image/png": "[encoded data removed]",
      "text/plain": [
       "<Figure size 432x288 with 1 Axes>"
      ]
     },
     "metadata": {
      "needs_background": "light"
     },
     "output_type": "display_data"
    }
   ],
   "source": [
    "data.plot()"
   ]
  },
  {
   "cell_type": "markdown",
   "metadata": {},
   "source": [
    "https://towardsdatascience.com/structure-and-automated-workflow-for-a-machine-learning-project-part-2-b5b420625102"
   ]
  },
  {
   "cell_type": "code",
   "execution_count": null,
   "metadata": {},
   "outputs": [],
   "source": []
  }
 ],
 "metadata": {
  "kernelspec": {
   "display_name": "Python 3",
   "language": "python",
   "name": "python3"
  },
  "language_info": {
   "codemirror_mode": {
    "name": "ipython",
    "version": 3
   },
   "file_extension": ".py",
   "mimetype": "text/x-python",
   "name": "python",
   "nbconvert_exporter": "python",
   "pygments_lexer": "ipython3",
   "version": "3.7.1"
  }
 },
 "nbformat": 4,
 "nbformat_minor": 2
}
